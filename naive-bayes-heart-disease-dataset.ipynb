{
 "cells": [
  {
   "cell_type": "code",
   "execution_count": null,
   "id": "9cc0074c",
   "metadata": {
    "execution": {
     "iopub.execute_input": "2023-01-02T20:52:54.713963Z",
     "iopub.status.busy": "2023-01-02T20:52:54.713167Z",
     "iopub.status.idle": "2023-01-02T20:52:55.924132Z",
     "shell.execute_reply": "2023-01-02T20:52:55.922974Z"
    },
    "papermill": {
     "duration": 1.22196,
     "end_time": "2023-01-02T20:52:55.927227",
     "exception": false,
     "start_time": "2023-01-02T20:52:54.705267",
     "status": "completed"
    },
    "tags": []
   },
   "outputs": [],
   "source": [
    "#Step 1: Importing the Libraries\n",
    "import numpy as np # linear algebra\n",
    "import pandas as pd # data processing, CSV file I/O (e.g. pd.read_csv)\n",
    "import seaborn as sns # for statistical data visualization\n",
    "from sklearn.model_selection import train_test_split\n",
    "from sklearn.naive_bayes import GaussianNB\n",
    "from sklearn.metrics import accuracy_score,confusion_matrix\n",
    "from sklearn import preprocessing"
   ]
  },
  {
   "cell_type": "code",
   "execution_count": null,
   "id": "913999c9",
   "metadata": {
    "execution": {
     "iopub.execute_input": "2023-01-02T20:52:55.937583Z",
     "iopub.status.busy": "2023-01-02T20:52:55.937177Z",
     "iopub.status.idle": "2023-01-02T20:52:55.962056Z",
     "shell.execute_reply": "2023-01-02T20:52:55.960667Z"
    },
    "papermill": {
     "duration": 0.033142,
     "end_time": "2023-01-02T20:52:55.964882",
     "exception": false,
     "start_time": "2023-01-02T20:52:55.931740",
     "status": "completed"
    },
    "tags": []
   },
   "outputs": [
    {
     "data": {
      "text/plain": [
       "(303, 14)"
      ]
     },
     "execution_count": 2,
     "metadata": {},
     "output_type": "execute_result"
    }
   ],
   "source": [
    "#Step 2: Reading & Loading the Dataset\n",
    "df = pd.read_csv('/kaggle/input/modified2/New_heart.csv',header=None)\n",
    "df.shape"
   ]
  },
  {
   "cell_type": "code",
   "execution_count": null,
   "id": "dfb47c54",
   "metadata": {
    "execution": {
     "iopub.execute_input": "2023-01-02T20:52:55.975750Z",
     "iopub.status.busy": "2023-01-02T20:52:55.975245Z",
     "iopub.status.idle": "2023-01-02T20:52:55.981836Z",
     "shell.execute_reply": "2023-01-02T20:52:55.980731Z"
    },
    "papermill": {
     "duration": 0.014839,
     "end_time": "2023-01-02T20:52:55.984500",
     "exception": false,
     "start_time": "2023-01-02T20:52:55.969661",
     "status": "completed"
    },
    "tags": []
   },
   "outputs": [],
   "source": [
    "col_names = ['age', 'sex', 'cp', 'trestbps', 'chol', 'fbs', 'restecg', 'thalach','exang', 'oldpeak', 'slope', 'ca', 'thal', 'target']\n",
    "df.columns = col_names"
   ]
  },
  {
   "cell_type": "code",
   "execution_count": null,
   "id": "b6d364b1",
   "metadata": {
    "execution": {
     "iopub.execute_input": "2023-01-02T20:52:55.996007Z",
     "iopub.status.busy": "2023-01-02T20:52:55.995330Z",
     "iopub.status.idle": "2023-01-02T20:52:56.000909Z",
     "shell.execute_reply": "2023-01-02T20:52:55.999528Z"
    },
    "papermill": {
     "duration": 0.014358,
     "end_time": "2023-01-02T20:52:56.003401",
     "exception": false,
     "start_time": "2023-01-02T20:52:55.989043",
     "status": "completed"
    },
    "tags": []
   },
   "outputs": [],
   "source": [
    "# Attribute Information\n",
    "# 1) age\n",
    "# 2) sex\n",
    "# 3) cp = chest pain type (4 values)\n",
    "# 4) trestbps = resting blood pressure\n",
    "# 5) chol = serum cholestoral in mg/dl\n",
    "# 6) fbs = fasting blood sugar > 120 mg/dl\n",
    "# 7) restecg = resting electrocardiographic results (values 0,1,2)\n",
    "# 8) thalach = maximum heart rate achieved\n",
    "# 9) exang = exercise induced angina\n",
    "# 10) oldpeak = ST depression induced by exercise relative to rest\n",
    "# 11) slope = the slope of the peak exercise ST segment\n",
    "# 12) ca = number of major vessels (0-3) colored by flourosopy\n",
    "# 13) thal: 0 = normal; 1 = fixed defect; 2 = reversable defect\n",
    "# 14) target: 0= less chance of heart attack 1= more chance of heart attack"
   ]
  },
  {
   "cell_type": "code",
   "execution_count": null,
   "id": "e97ec871",
   "metadata": {
    "execution": {
     "iopub.execute_input": "2023-01-02T20:52:56.014721Z",
     "iopub.status.busy": "2023-01-02T20:52:56.014315Z",
     "iopub.status.idle": "2023-01-02T20:52:56.039558Z",
     "shell.execute_reply": "2023-01-02T20:52:56.038084Z"
    },
    "papermill": {
     "duration": 0.034013,
     "end_time": "2023-01-02T20:52:56.042160",
     "exception": false,
     "start_time": "2023-01-02T20:52:56.008147",
     "status": "completed"
    },
    "tags": []
   },
   "outputs": [
    {
     "data": {
      "text/html": [
       "<div>\n",
       "<style scoped>\n",
       "    .dataframe tbody tr th:only-of-type {\n",
       "        vertical-align: middle;\n",
       "    }\n",
       "\n",
       "    .dataframe tbody tr th {\n",
       "        vertical-align: top;\n",
       "    }\n",
       "\n",
       "    .dataframe thead th {\n",
       "        text-align: right;\n",
       "    }\n",
       "</style>\n",
       "<table border=\"1\" class=\"dataframe\">\n",
       "  <thead>\n",
       "    <tr style=\"text-align: right;\">\n",
       "      <th></th>\n",
       "      <th>age</th>\n",
       "      <th>sex</th>\n",
       "      <th>cp</th>\n",
       "      <th>trestbps</th>\n",
       "      <th>chol</th>\n",
       "      <th>fbs</th>\n",
       "      <th>restecg</th>\n",
       "      <th>thalach</th>\n",
       "      <th>exang</th>\n",
       "      <th>oldpeak</th>\n",
       "      <th>slope</th>\n",
       "      <th>ca</th>\n",
       "      <th>thal</th>\n",
       "      <th>target</th>\n",
       "    </tr>\n",
       "  </thead>\n",
       "  <tbody>\n",
       "    <tr>\n",
       "      <th>0</th>\n",
       "      <td>63</td>\n",
       "      <td>1</td>\n",
       "      <td>3</td>\n",
       "      <td>145</td>\n",
       "      <td>233</td>\n",
       "      <td>1</td>\n",
       "      <td>0</td>\n",
       "      <td>150</td>\n",
       "      <td>0</td>\n",
       "      <td>2.3</td>\n",
       "      <td>0</td>\n",
       "      <td>0</td>\n",
       "      <td>1</td>\n",
       "      <td>1</td>\n",
       "    </tr>\n",
       "    <tr>\n",
       "      <th>1</th>\n",
       "      <td>37</td>\n",
       "      <td>1</td>\n",
       "      <td>2</td>\n",
       "      <td>130</td>\n",
       "      <td>250</td>\n",
       "      <td>0</td>\n",
       "      <td>1</td>\n",
       "      <td>187</td>\n",
       "      <td>0</td>\n",
       "      <td>3.5</td>\n",
       "      <td>0</td>\n",
       "      <td>0</td>\n",
       "      <td>2</td>\n",
       "      <td>1</td>\n",
       "    </tr>\n",
       "    <tr>\n",
       "      <th>2</th>\n",
       "      <td>41</td>\n",
       "      <td>0</td>\n",
       "      <td>1</td>\n",
       "      <td>130</td>\n",
       "      <td>204</td>\n",
       "      <td>0</td>\n",
       "      <td>0</td>\n",
       "      <td>172</td>\n",
       "      <td>0</td>\n",
       "      <td>1.4</td>\n",
       "      <td>2</td>\n",
       "      <td>0</td>\n",
       "      <td>2</td>\n",
       "      <td>1</td>\n",
       "    </tr>\n",
       "    <tr>\n",
       "      <th>3</th>\n",
       "      <td>56</td>\n",
       "      <td>1</td>\n",
       "      <td>1</td>\n",
       "      <td>120</td>\n",
       "      <td>236</td>\n",
       "      <td>0</td>\n",
       "      <td>1</td>\n",
       "      <td>178</td>\n",
       "      <td>0</td>\n",
       "      <td>0.8</td>\n",
       "      <td>2</td>\n",
       "      <td>0</td>\n",
       "      <td>2</td>\n",
       "      <td>1</td>\n",
       "    </tr>\n",
       "    <tr>\n",
       "      <th>4</th>\n",
       "      <td>57</td>\n",
       "      <td>0</td>\n",
       "      <td>0</td>\n",
       "      <td>120</td>\n",
       "      <td>354</td>\n",
       "      <td>0</td>\n",
       "      <td>1</td>\n",
       "      <td>163</td>\n",
       "      <td>1</td>\n",
       "      <td>0.6</td>\n",
       "      <td>2</td>\n",
       "      <td>0</td>\n",
       "      <td>2</td>\n",
       "      <td>1</td>\n",
       "    </tr>\n",
       "    <tr>\n",
       "      <th>5</th>\n",
       "      <td>57</td>\n",
       "      <td>1</td>\n",
       "      <td>0</td>\n",
       "      <td>140</td>\n",
       "      <td>192</td>\n",
       "      <td>0</td>\n",
       "      <td>1</td>\n",
       "      <td>148</td>\n",
       "      <td>0</td>\n",
       "      <td>0.4</td>\n",
       "      <td>1</td>\n",
       "      <td>0</td>\n",
       "      <td>1</td>\n",
       "      <td>1</td>\n",
       "    </tr>\n",
       "    <tr>\n",
       "      <th>6</th>\n",
       "      <td>56</td>\n",
       "      <td>0</td>\n",
       "      <td>1</td>\n",
       "      <td>140</td>\n",
       "      <td>294</td>\n",
       "      <td>0</td>\n",
       "      <td>0</td>\n",
       "      <td>153</td>\n",
       "      <td>0</td>\n",
       "      <td>1.3</td>\n",
       "      <td>1</td>\n",
       "      <td>0</td>\n",
       "      <td>2</td>\n",
       "      <td>1</td>\n",
       "    </tr>\n",
       "    <tr>\n",
       "      <th>7</th>\n",
       "      <td>44</td>\n",
       "      <td>1</td>\n",
       "      <td>1</td>\n",
       "      <td>120</td>\n",
       "      <td>263</td>\n",
       "      <td>0</td>\n",
       "      <td>1</td>\n",
       "      <td>173</td>\n",
       "      <td>0</td>\n",
       "      <td>0.0</td>\n",
       "      <td>2</td>\n",
       "      <td>0</td>\n",
       "      <td>3</td>\n",
       "      <td>1</td>\n",
       "    </tr>\n",
       "    <tr>\n",
       "      <th>8</th>\n",
       "      <td>52</td>\n",
       "      <td>1</td>\n",
       "      <td>2</td>\n",
       "      <td>172</td>\n",
       "      <td>199</td>\n",
       "      <td>1</td>\n",
       "      <td>1</td>\n",
       "      <td>162</td>\n",
       "      <td>0</td>\n",
       "      <td>0.5</td>\n",
       "      <td>2</td>\n",
       "      <td>0</td>\n",
       "      <td>3</td>\n",
       "      <td>1</td>\n",
       "    </tr>\n",
       "    <tr>\n",
       "      <th>9</th>\n",
       "      <td>57</td>\n",
       "      <td>1</td>\n",
       "      <td>2</td>\n",
       "      <td>150</td>\n",
       "      <td>168</td>\n",
       "      <td>0</td>\n",
       "      <td>1</td>\n",
       "      <td>174</td>\n",
       "      <td>0</td>\n",
       "      <td>1.6</td>\n",
       "      <td>2</td>\n",
       "      <td>0</td>\n",
       "      <td>2</td>\n",
       "      <td>1</td>\n",
       "    </tr>\n",
       "  </tbody>\n",
       "</table>\n",
       "</div>"
      ],
      "text/plain": [
       "   age  sex  cp  trestbps  chol  fbs  restecg  thalach  exang  oldpeak  slope  \\\n",
       "0   63    1   3       145   233    1        0      150      0      2.3      0   \n",
       "1   37    1   2       130   250    0        1      187      0      3.5      0   \n",
       "2   41    0   1       130   204    0        0      172      0      1.4      2   \n",
       "3   56    1   1       120   236    0        1      178      0      0.8      2   \n",
       "4   57    0   0       120   354    0        1      163      1      0.6      2   \n",
       "5   57    1   0       140   192    0        1      148      0      0.4      1   \n",
       "6   56    0   1       140   294    0        0      153      0      1.3      1   \n",
       "7   44    1   1       120   263    0        1      173      0      0.0      2   \n",
       "8   52    1   2       172   199    1        1      162      0      0.5      2   \n",
       "9   57    1   2       150   168    0        1      174      0      1.6      2   \n",
       "\n",
       "   ca  thal  target  \n",
       "0   0     1       1  \n",
       "1   0     2       1  \n",
       "2   0     2       1  \n",
       "3   0     2       1  \n",
       "4   0     2       1  \n",
       "5   0     1       1  \n",
       "6   0     2       1  \n",
       "7   0     3       1  \n",
       "8   0     3       1  \n",
       "9   0     2       1  "
      ]
     },
     "execution_count": 5,
     "metadata": {},
     "output_type": "execute_result"
    }
   ],
   "source": [
    "df.head(10)"
   ]
  },
  {
   "cell_type": "code",
   "execution_count": null,
   "id": "94729ead",
   "metadata": {
    "execution": {
     "iopub.execute_input": "2023-01-02T20:52:56.053443Z",
     "iopub.status.busy": "2023-01-02T20:52:56.052968Z",
     "iopub.status.idle": "2023-01-02T20:52:56.114768Z",
     "shell.execute_reply": "2023-01-02T20:52:56.112407Z"
    },
    "papermill": {
     "duration": 0.072169,
     "end_time": "2023-01-02T20:52:56.119078",
     "exception": false,
     "start_time": "2023-01-02T20:52:56.046909",
     "status": "completed"
    },
    "tags": []
   },
   "outputs": [
    {
     "name": "stdout",
     "output_type": "stream",
     "text": [
      "<class 'pandas.core.frame.DataFrame'>\n",
      "RangeIndex: 303 entries, 0 to 302\n",
      "Data columns (total 14 columns):\n",
      " #   Column    Non-Null Count  Dtype  \n",
      "---  ------    --------------  -----  \n",
      " 0   age       303 non-null    int64  \n",
      " 1   sex       303 non-null    int64  \n",
      " 2   cp        303 non-null    int64  \n",
      " 3   trestbps  303 non-null    int64  \n",
      " 4   chol      303 non-null    int64  \n",
      " 5   fbs       303 non-null    int64  \n",
      " 6   restecg   303 non-null    int64  \n",
      " 7   thalach   303 non-null    int64  \n",
      " 8   exang     303 non-null    int64  \n",
      " 9   oldpeak   303 non-null    float64\n",
      " 10  slope     303 non-null    int64  \n",
      " 11  ca        303 non-null    int64  \n",
      " 12  thal      303 non-null    int64  \n",
      " 13  target    303 non-null    int64  \n",
      "dtypes: float64(1), int64(13)\n",
      "memory usage: 33.3 KB\n"
     ]
    }
   ],
   "source": [
    "df.describe()\n",
    "df.info()"
   ]
  },
  {
   "cell_type": "code",
   "execution_count": null,
   "id": "c597b4c5",
   "metadata": {
    "execution": {
     "iopub.execute_input": "2023-01-02T20:52:56.132077Z",
     "iopub.status.busy": "2023-01-02T20:52:56.131411Z",
     "iopub.status.idle": "2023-01-02T20:52:56.145073Z",
     "shell.execute_reply": "2023-01-02T20:52:56.143710Z"
    },
    "papermill": {
     "duration": 0.023939,
     "end_time": "2023-01-02T20:52:56.148036",
     "exception": false,
     "start_time": "2023-01-02T20:52:56.124097",
     "status": "completed"
    },
    "tags": []
   },
   "outputs": [],
   "source": [
    "X = df.drop(['target'], axis=1)\n",
    "X = preprocessing.scale(X)\n",
    "Y = df['target']"
   ]
  },
  {
   "cell_type": "code",
   "execution_count": null,
   "id": "a52d6de2",
   "metadata": {
    "execution": {
     "iopub.execute_input": "2023-01-02T20:52:56.162887Z",
     "iopub.status.busy": "2023-01-02T20:52:56.162198Z",
     "iopub.status.idle": "2023-01-02T20:52:56.175977Z",
     "shell.execute_reply": "2023-01-02T20:52:56.170093Z"
    },
    "papermill": {
     "duration": 0.026654,
     "end_time": "2023-01-02T20:52:56.180040",
     "exception": false,
     "start_time": "2023-01-02T20:52:56.153386",
     "status": "completed"
    },
    "tags": []
   },
   "outputs": [],
   "source": [
    "# Step 3: Train the model\n",
    "X_train, X_test, Y_train, Y_test = train_test_split(X, Y, test_size = 0.3, random_state = 0)"
   ]
  },
  {
   "cell_type": "code",
   "execution_count": null,
   "id": "6475e9c0",
   "metadata": {
    "execution": {
     "iopub.execute_input": "2023-01-02T20:52:56.195681Z",
     "iopub.status.busy": "2023-01-02T20:52:56.195152Z",
     "iopub.status.idle": "2023-01-02T20:52:56.204106Z",
     "shell.execute_reply": "2023-01-02T20:52:56.202194Z"
    },
    "papermill": {
     "duration": 0.020662,
     "end_time": "2023-01-02T20:52:56.207321",
     "exception": false,
     "start_time": "2023-01-02T20:52:56.186659",
     "status": "completed"
    },
    "tags": []
   },
   "outputs": [
    {
     "data": {
      "text/plain": [
       "((212, 13), (91, 13))"
      ]
     },
     "execution_count": 9,
     "metadata": {},
     "output_type": "execute_result"
    }
   ],
   "source": [
    "X_train.shape, X_test.shape"
   ]
  },
  {
   "cell_type": "code",
   "execution_count": null,
   "id": "d5690794",
   "metadata": {
    "execution": {
     "iopub.execute_input": "2023-01-02T20:52:56.220316Z",
     "iopub.status.busy": "2023-01-02T20:52:56.218743Z",
     "iopub.status.idle": "2023-01-02T20:52:56.228129Z",
     "shell.execute_reply": "2023-01-02T20:52:56.227069Z"
    },
    "papermill": {
     "duration": 0.018198,
     "end_time": "2023-01-02T20:52:56.230667",
     "exception": false,
     "start_time": "2023-01-02T20:52:56.212469",
     "status": "completed"
    },
    "tags": []
   },
   "outputs": [],
   "source": [
    "# train a Gaussian Naive Bayes classifier on the training set\n",
    "# instantiate the model\n",
    "gnb = GaussianNB()\n",
    "\n",
    "# fit the model\n",
    "gnb.fit(X_train, Y_train)\n",
    "\n",
    "# Step 4: Prediction\n",
    "Y_pred = gnb.predict(X_test)\n",
    "Y_pred_train = gnb.predict(X_train)"
   ]
  },
  {
   "cell_type": "code",
   "execution_count": null,
   "id": "f07e4b6d",
   "metadata": {
    "execution": {
     "iopub.execute_input": "2023-01-02T20:52:56.242756Z",
     "iopub.status.busy": "2023-01-02T20:52:56.242278Z",
     "iopub.status.idle": "2023-01-02T20:52:56.252435Z",
     "shell.execute_reply": "2023-01-02T20:52:56.250577Z"
    },
    "papermill": {
     "duration": 0.019586,
     "end_time": "2023-01-02T20:52:56.255582",
     "exception": false,
     "start_time": "2023-01-02T20:52:56.235996",
     "status": "completed"
    },
    "tags": []
   },
   "outputs": [
    {
     "name": "stdout",
     "output_type": "stream",
     "text": [
      "Accuracy of our model is equal  80.22 %\n"
     ]
    }
   ],
   "source": [
    "# print the scores on training and test set\n",
    "Train_Accuracy=accuracy_score(Y_train,Y_pred_train)*100\n",
    "#print('Accuracy of our model is equal (Train) '+str(round(Train_Accuracy,2))+' %')\n",
    "\n",
    "accuracy = accuracy_score(Y_test,Y_pred)*100\n",
    "print('Accuracy of our model is equal  '+str(round(accuracy,2))+' %')"
   ]
  },
  {
   "cell_type": "code",
   "execution_count": null,
   "id": "1fde0447",
   "metadata": {
    "execution": {
     "iopub.execute_input": "2023-01-02T20:52:56.269070Z",
     "iopub.status.busy": "2023-01-02T20:52:56.268676Z",
     "iopub.status.idle": "2023-01-02T20:52:56.279418Z",
     "shell.execute_reply": "2023-01-02T20:52:56.277851Z"
    },
    "papermill": {
     "duration": 0.020252,
     "end_time": "2023-01-02T20:52:56.281985",
     "exception": false,
     "start_time": "2023-01-02T20:52:56.261733",
     "status": "completed"
    },
    "tags": []
   },
   "outputs": [
    {
     "name": "stdout",
     "output_type": "stream",
     "text": [
      "[[32 12]\n",
      " [ 6 41]]\n"
     ]
    }
   ],
   "source": [
    "cm = confusion_matrix(Y_test,Y_pred)\n",
    "print(cm)"
   ]
  },
  {
   "cell_type": "code",
   "execution_count": null,
   "id": "52e1d900",
   "metadata": {
    "execution": {
     "iopub.execute_input": "2023-01-02T20:52:56.293811Z",
     "iopub.status.busy": "2023-01-02T20:52:56.293354Z",
     "iopub.status.idle": "2023-01-02T20:52:56.301414Z",
     "shell.execute_reply": "2023-01-02T20:52:56.300185Z"
    },
    "papermill": {
     "duration": 0.017414,
     "end_time": "2023-01-02T20:52:56.304496",
     "exception": false,
     "start_time": "2023-01-02T20:52:56.287082",
     "status": "completed"
    },
    "tags": []
   },
   "outputs": [
    {
     "data": {
      "text/plain": [
       "1    47\n",
       "0    44\n",
       "Name: target, dtype: int64"
      ]
     },
     "execution_count": 13,
     "metadata": {},
     "output_type": "execute_result"
    }
   ],
   "source": [
    "# check class distribution in test set\n",
    "Y_test.value_counts()"
   ]
  },
  {
   "cell_type": "code",
   "execution_count": null,
   "id": "96598c38",
   "metadata": {
    "execution": {
     "iopub.execute_input": "2023-01-02T20:52:56.317346Z",
     "iopub.status.busy": "2023-01-02T20:52:56.316483Z",
     "iopub.status.idle": "2023-01-02T20:52:56.342609Z",
     "shell.execute_reply": "2023-01-02T20:52:56.341218Z"
    },
    "papermill": {
     "duration": 0.035045,
     "end_time": "2023-01-02T20:52:56.345137",
     "exception": false,
     "start_time": "2023-01-02T20:52:56.310092",
     "status": "completed"
    },
    "tags": []
   },
   "outputs": [
    {
     "name": "stdout",
     "output_type": "stream",
     "text": [
      "Predicted Target:0, Actual Target: 0\n",
      "Predicted Target:1, Actual Target: 1\n",
      "Predicted Target:1, Actual Target: 0\n",
      "Predicted Target:0, Actual Target: 0\n",
      "Predicted Target:0, Actual Target: 1\n",
      "Predicted Target:1, Actual Target: 0\n",
      "Predicted Target:0, Actual Target: 0\n",
      "Predicted Target:0, Actual Target: 0\n",
      "Predicted Target:0, Actual Target: 0\n",
      "Predicted Target:0, Actual Target: 0\n",
      "Predicted Target:1, Actual Target: 1\n",
      "Predicted Target:1, Actual Target: 1\n",
      "Predicted Target:0, Actual Target: 0\n",
      "Predicted Target:1, Actual Target: 1\n",
      "Predicted Target:1, Actual Target: 1\n",
      "Predicted Target:1, Actual Target: 1\n",
      "Predicted Target:0, Actual Target: 1\n",
      "Predicted Target:1, Actual Target: 1\n",
      "Predicted Target:0, Actual Target: 0\n",
      "Predicted Target:1, Actual Target: 1\n",
      "Predicted Target:1, Actual Target: 1\n",
      "Predicted Target:1, Actual Target: 0\n",
      "Predicted Target:0, Actual Target: 0\n",
      "Predicted Target:0, Actual Target: 0\n",
      "Predicted Target:1, Actual Target: 1\n",
      "Predicted Target:0, Actual Target: 0\n",
      "Predicted Target:0, Actual Target: 0\n",
      "Predicted Target:1, Actual Target: 0\n",
      "Predicted Target:1, Actual Target: 1\n",
      "Predicted Target:1, Actual Target: 1\n",
      "Predicted Target:0, Actual Target: 0\n",
      "Predicted Target:0, Actual Target: 0\n",
      "Predicted Target:1, Actual Target: 1\n",
      "Predicted Target:1, Actual Target: 1\n",
      "Predicted Target:1, Actual Target: 1\n",
      "Predicted Target:0, Actual Target: 0\n",
      "Predicted Target:0, Actual Target: 0\n",
      "Predicted Target:1, Actual Target: 1\n",
      "Predicted Target:0, Actual Target: 0\n",
      "Predicted Target:0, Actual Target: 0\n",
      "Predicted Target:1, Actual Target: 1\n",
      "Predicted Target:1, Actual Target: 1\n",
      "Predicted Target:0, Actual Target: 1\n",
      "Predicted Target:0, Actual Target: 0\n",
      "Predicted Target:1, Actual Target: 1\n",
      "Predicted Target:1, Actual Target: 1\n",
      "Predicted Target:1, Actual Target: 1\n",
      "Predicted Target:1, Actual Target: 0\n",
      "Predicted Target:0, Actual Target: 0\n",
      "Predicted Target:1, Actual Target: 1\n",
      "Predicted Target:1, Actual Target: 1\n",
      "Predicted Target:1, Actual Target: 1\n",
      "Predicted Target:1, Actual Target: 1\n",
      "Predicted Target:1, Actual Target: 1\n",
      "Predicted Target:1, Actual Target: 1\n",
      "Predicted Target:0, Actual Target: 0\n",
      "Predicted Target:1, Actual Target: 1\n",
      "Predicted Target:1, Actual Target: 0\n",
      "Predicted Target:1, Actual Target: 1\n",
      "Predicted Target:1, Actual Target: 1\n",
      "Predicted Target:1, Actual Target: 1\n",
      "Predicted Target:1, Actual Target: 1\n",
      "Predicted Target:1, Actual Target: 1\n",
      "Predicted Target:1, Actual Target: 1\n",
      "Predicted Target:1, Actual Target: 0\n",
      "Predicted Target:1, Actual Target: 0\n",
      "Predicted Target:1, Actual Target: 0\n",
      "Predicted Target:0, Actual Target: 0\n",
      "Predicted Target:1, Actual Target: 1\n",
      "Predicted Target:1, Actual Target: 1\n",
      "Predicted Target:1, Actual Target: 1\n",
      "Predicted Target:1, Actual Target: 1\n",
      "Predicted Target:1, Actual Target: 1\n",
      "Predicted Target:0, Actual Target: 0\n",
      "Predicted Target:0, Actual Target: 0\n",
      "Predicted Target:1, Actual Target: 1\n",
      "Predicted Target:0, Actual Target: 0\n",
      "Predicted Target:1, Actual Target: 0\n",
      "Predicted Target:1, Actual Target: 1\n",
      "Predicted Target:0, Actual Target: 1\n",
      "Predicted Target:0, Actual Target: 0\n",
      "Predicted Target:0, Actual Target: 0\n",
      "Predicted Target:0, Actual Target: 0\n",
      "Predicted Target:0, Actual Target: 1\n",
      "Predicted Target:0, Actual Target: 0\n",
      "Predicted Target:1, Actual Target: 0\n",
      "Predicted Target:0, Actual Target: 0\n",
      "Predicted Target:1, Actual Target: 0\n",
      "Predicted Target:0, Actual Target: 1\n",
      "Predicted Target:0, Actual Target: 0\n",
      "Predicted Target:0, Actual Target: 0\n"
     ]
    }
   ],
   "source": [
    "for X,Y in zip(X_test, Y_test):\n",
    "\tprint(f\"Predicted Target:{gnb.predict([X])[0]}, Actual Target: {Y}\")"
   ]
  }
 ],
 "metadata": {
  "kernelspec": {
   "display_name": "Python 3",
   "language": "python",
   "name": "python3"
  },
  "language_info": {
   "codemirror_mode": {
    "name": "ipython",
    "version": 3
   },
   "file_extension": ".py",
   "mimetype": "text/x-python",
   "name": "python",
   "nbconvert_exporter": "python",
   "pygments_lexer": "ipython3",
   "version": "3.10.4 (tags/v3.10.4:9d38120, Mar 23 2022, 23:13:41) [MSC v.1929 64 bit (AMD64)]"
  },
  "papermill": {
   "default_parameters": {},
   "duration": 11.191307,
   "end_time": "2023-01-02T20:52:57.172622",
   "environment_variables": {},
   "exception": null,
   "input_path": "__notebook__.ipynb",
   "output_path": "__notebook__.ipynb",
   "parameters": {},
   "start_time": "2023-01-02T20:52:45.981315",
   "version": "2.3.4"
  },
  "vscode": {
   "interpreter": {
    "hash": "afb734500600fd355917ca529030176ea0ca205570884b88f2f6f7d791fd3fbe"
   }
  }
 },
 "nbformat": 4,
 "nbformat_minor": 5
}
